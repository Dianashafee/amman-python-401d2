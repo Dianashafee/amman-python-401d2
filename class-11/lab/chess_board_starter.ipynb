{
 "cells": [
  {
   "cell_type": "code",
   "execution_count": null,
   "metadata": {},
   "outputs": [],
   "source": [
    "import numpy as np\n",
    "import matplotlib.pyplot as plt\n",
    "\n",
    "class ChessBoard:\n",
    "    white = [1,1,1]\n",
    "    blue = [0,0,1]\n",
    "    red = [1,0,0]\n",
    "    def __init__(self):\n",
    "        self.grid = np.zeros([8,8,3])\n",
    "        for i in range(8):\n",
    "            for j in range(8):\n",
    "                if (i%2==0 and j%2==0) or (i%2==1 and j%2==1):\n",
    "                    self.grid[i,j] = ChessBoard.white\n",
    "    \n",
    "          \n",
    "    def render(self):\n",
    "        plt.imshow(self.grid)\n",
    "    \n",
    "    def check_if_under_attack(self,red_x,red_y,blue_x,blue_y):\n",
    "        pass\n",
    "    def is_under_attack(self):\n",
    "        pass\n",
    "\n",
    "board = ChessBoard()\n",
    "board.render()"
   ]
  },
  {
   "cell_type": "code",
   "execution_count": null,
   "metadata": {},
   "outputs": [],
   "source": []
  }
 ],
 "metadata": {
  "kernelspec": {
   "display_name": "Python 3",
   "language": "python",
   "name": "python3"
  },
  "language_info": {
   "codemirror_mode": {
    "name": "ipython",
    "version": 3
   },
   "file_extension": ".py",
   "mimetype": "text/x-python",
   "name": "python",
   "nbconvert_exporter": "python",
   "pygments_lexer": "ipython3",
   "version": "3.8.5-final"
  }
 },
 "nbformat": 4,
 "nbformat_minor": 4
}