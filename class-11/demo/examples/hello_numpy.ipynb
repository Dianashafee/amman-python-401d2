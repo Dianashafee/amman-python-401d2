{
 "cells": [
  {
   "cell_type": "markdown",
   "metadata": {
    "colab_type": "text",
    "id": "pAuHPdFD3oa2"
   },
   "source": [
    "# Hello"
   ]
  },
  {
   "cell_type": "code",
   "execution_count": 1,
   "metadata": {
    "colab": {},
    "colab_type": "code",
    "id": "JS3j5vD03eJp"
   },
   "outputs": [],
   "source": [
    "import numpy as np"
   ]
  },
  {
   "cell_type": "code",
   "execution_count": 4,
   "metadata": {},
   "outputs": [],
   "source": [
    "matrix = np.arange(64)"
   ]
  },
  {
   "cell_type": "code",
   "execution_count": 5,
   "metadata": {},
   "outputs": [
    {
     "data": {
      "text/plain": [
       "array([ 0,  1,  2,  3,  4,  5,  6,  7,  8,  9, 10, 11, 12, 13, 14, 15, 16,\n",
       "       17, 18, 19, 20, 21, 22, 23, 24, 25, 26, 27, 28, 29, 30, 31, 32, 33,\n",
       "       34, 35, 36, 37, 38, 39, 40, 41, 42, 43, 44, 45, 46, 47, 48, 49, 50,\n",
       "       51, 52, 53, 54, 55, 56, 57, 58, 59, 60, 61, 62, 63])"
      ]
     },
     "execution_count": 5,
     "metadata": {},
     "output_type": "execute_result"
    }
   ],
   "source": [
    "matrix"
   ]
  },
  {
   "cell_type": "code",
   "execution_count": 9,
   "metadata": {
    "colab": {
     "base_uri": "https://localhost:8080/",
     "height": 151
    },
    "colab_type": "code",
    "executionInfo": {
     "elapsed": 432,
     "status": "ok",
     "timestamp": 1584204691831,
     "user": {
      "displayName": "Jonathyn Tellez",
      "photoUrl": "https://lh3.googleusercontent.com/a-/AOh14GjBhMFlrWTeC8b-KFbXUAuQaqPvaW9MzOTcBNLhOA=s64",
      "userId": "07224116715141009983"
     },
     "user_tz": 420
    },
    "id": "tKk0bPGG3zqq",
    "outputId": "f9466261-0aed-430c-e197-80dd201826f5"
   },
   "outputs": [
    {
     "name": "stdout",
     "output_type": "stream",
     "text": [
      "[[ 0  1  2  3]\n",
      " [ 4  5  6  7]\n",
      " [ 8  9 10 11]\n",
      " [12 13 14 15]\n",
      " [16 17 18 19]\n",
      " [20 21 22 23]\n",
      " [24 25 26 27]\n",
      " [28 29 30 31]\n",
      " [32 33 34 35]\n",
      " [36 37 38 39]\n",
      " [40 41 42 43]\n",
      " [44 45 46 47]\n",
      " [48 49 50 51]\n",
      " [52 53 54 55]\n",
      " [56 57 58 59]\n",
      " [60 61 62 63]]\n"
     ]
    }
   ],
   "source": [
    "mtrx = np.arange(64).reshape(16,4)\n",
    "print(mtrx)"
   ]
  },
  {
   "cell_type": "code",
   "execution_count": 10,
   "metadata": {
    "colab": {
     "base_uri": "https://localhost:8080/",
     "height": 50
    },
    "colab_type": "code",
    "executionInfo": {
     "elapsed": 427,
     "status": "ok",
     "timestamp": 1584204691831,
     "user": {
      "displayName": "Jonathyn Tellez",
      "photoUrl": "https://lh3.googleusercontent.com/a-/AOh14GjBhMFlrWTeC8b-KFbXUAuQaqPvaW9MzOTcBNLhOA=s64",
      "userId": "07224116715141009983"
     },
     "user_tz": 420
    },
    "id": "Nq146MqS4FV6",
    "outputId": "ef9f80b4-7c0c-4b0d-a8d5-1450b860d760"
   },
   "outputs": [
    {
     "name": "stdout",
     "output_type": "stream",
     "text": [
      "15\n",
      "15\n"
     ]
    }
   ],
   "source": [
    "print(mtrx[3,3])\n",
    "print(mtrx[3][3])"
   ]
  },
  {
   "cell_type": "code",
   "execution_count": 11,
   "metadata": {},
   "outputs": [
    {
     "data": {
      "text/plain": [
       "array([16, 17, 18, 19])"
      ]
     },
     "execution_count": 11,
     "metadata": {},
     "output_type": "execute_result"
    }
   ],
   "source": [
    "mtrx[4,:]"
   ]
  },
  {
   "cell_type": "code",
   "execution_count": 12,
   "metadata": {},
   "outputs": [
    {
     "data": {
      "text/plain": [
       "array([17, 18, 19])"
      ]
     },
     "execution_count": 12,
     "metadata": {},
     "output_type": "execute_result"
    }
   ],
   "source": [
    "mtrx[4, 1:4]"
   ]
  },
  {
   "cell_type": "code",
   "execution_count": 35,
   "metadata": {
    "colab": {
     "base_uri": "https://localhost:8080/",
     "height": 34
    },
    "colab_type": "code",
    "executionInfo": {
     "elapsed": 351,
     "status": "ok",
     "timestamp": 1584204723176,
     "user": {
      "displayName": "Jonathyn Tellez",
      "photoUrl": "https://lh3.googleusercontent.com/a-/AOh14GjBhMFlrWTeC8b-KFbXUAuQaqPvaW9MzOTcBNLhOA=s64",
      "userId": "07224116715141009983"
     },
     "user_tz": 420
    },
    "id": "ASHPrfsa4XFb",
    "outputId": "c9a2aea8-7117-4c31-840c-9978c127ccb0"
   },
   "outputs": [
    {
     "data": {
      "text/plain": [
       "array([ 0,  1,  2,  3,  4,  5,  6,  7,  8,  9, 10, 11, 12, 13, 14, 15])"
      ]
     },
     "execution_count": 35,
     "metadata": {},
     "output_type": "execute_result"
    }
   ],
   "source": [
    "arr = np.arange(16)\n",
    "arr"
   ]
  },
  {
   "cell_type": "code",
   "execution_count": 17,
   "metadata": {},
   "outputs": [
    {
     "data": {
      "text/plain": [
       "16"
      ]
     },
     "execution_count": 17,
     "metadata": {},
     "output_type": "execute_result"
    }
   ],
   "source": [
    "len(arr)"
   ]
  },
  {
   "cell_type": "code",
   "execution_count": 19,
   "metadata": {},
   "outputs": [
    {
     "data": {
      "text/plain": [
       "7"
      ]
     },
     "execution_count": 19,
     "metadata": {},
     "output_type": "execute_result"
    }
   ],
   "source": [
    "15//2"
   ]
  },
  {
   "cell_type": "code",
   "execution_count": 20,
   "metadata": {},
   "outputs": [
    {
     "name": "stdout",
     "output_type": "stream",
     "text": [
      "x:3, y:7\n",
      "x:7, y:3\n"
     ]
    }
   ],
   "source": [
    "x = 3\n",
    "y = 7\n",
    "print(f'x:{x}, y:{y}')\n",
    "x,y = y,x\n",
    "print(f'x:{x}, y:{y}')"
   ]
  },
  {
   "cell_type": "code",
   "execution_count": 40,
   "metadata": {
    "colab": {},
    "colab_type": "code",
    "id": "a2B_QRln40wg"
   },
   "outputs": [],
   "source": [
    "def reverse_array(arr, copy=True):\n",
    "  if copy:\n",
    "    copied_arr = arr.copy()\n",
    "  mid = len(copied_arr) // 2\n",
    "  for i in range(mid):\n",
    "    copied_arr[i],copied_arr[-i-1] = copied_arr[-i-1],copied_arr[i]\n",
    "  return copied_arr"
   ]
  },
  {
   "cell_type": "code",
   "execution_count": 41,
   "metadata": {
    "colab": {
     "base_uri": "https://localhost:8080/",
     "height": 34
    },
    "colab_type": "code",
    "executionInfo": {
     "elapsed": 266,
     "status": "ok",
     "timestamp": 1584205085269,
     "user": {
      "displayName": "Jonathyn Tellez",
      "photoUrl": "https://lh3.googleusercontent.com/a-/AOh14GjBhMFlrWTeC8b-KFbXUAuQaqPvaW9MzOTcBNLhOA=s64",
      "userId": "07224116715141009983"
     },
     "user_tz": 420
    },
    "id": "e5AeeN7G-Yr0",
    "outputId": "ee89db12-2b27-4feb-e226-407f7484615b"
   },
   "outputs": [
    {
     "data": {
      "text/plain": [
       "array([ 0,  1,  2,  3,  4,  5,  6,  7,  8,  9, 10, 11, 12, 13, 14, 15])"
      ]
     },
     "execution_count": 41,
     "metadata": {},
     "output_type": "execute_result"
    }
   ],
   "source": [
    "arr"
   ]
  },
  {
   "cell_type": "code",
   "execution_count": 42,
   "metadata": {
    "colab": {},
    "colab_type": "code",
    "id": "LmgdH6Zz-zkI"
   },
   "outputs": [],
   "source": [
    "reversed = reverse_array(arr)"
   ]
  },
  {
   "cell_type": "code",
   "execution_count": 43,
   "metadata": {
    "colab": {
     "base_uri": "https://localhost:8080/",
     "height": 34
    },
    "colab_type": "code",
    "executionInfo": {
     "elapsed": 370,
     "status": "ok",
     "timestamp": 1584205139463,
     "user": {
      "displayName": "Jonathyn Tellez",
      "photoUrl": "https://lh3.googleusercontent.com/a-/AOh14GjBhMFlrWTeC8b-KFbXUAuQaqPvaW9MzOTcBNLhOA=s64",
      "userId": "07224116715141009983"
     },
     "user_tz": 420
    },
    "id": "meLqbu8G-7wS",
    "outputId": "cbaba575-c40a-4a1e-e556-aa7234a5e06d"
   },
   "outputs": [
    {
     "data": {
      "text/plain": [
       "array([15, 14, 13, 12, 11, 10,  9,  8,  7,  6,  5,  4,  3,  2,  1,  0])"
      ]
     },
     "execution_count": 43,
     "metadata": {},
     "output_type": "execute_result"
    }
   ],
   "source": [
    "reversed"
   ]
  },
  {
   "cell_type": "code",
   "execution_count": 76,
   "metadata": {
    "colab": {},
    "colab_type": "code",
    "id": "6QSVuAFS_TgA"
   },
   "outputs": [],
   "source": [
    "new_arr = np.array([1,2,3,4])[:]"
   ]
  },
  {
   "cell_type": "code",
   "execution_count": 77,
   "metadata": {
    "colab": {
     "base_uri": "https://localhost:8080/",
     "height": 34
    },
    "colab_type": "code",
    "executionInfo": {
     "elapsed": 347,
     "status": "ok",
     "timestamp": 1584205259742,
     "user": {
      "displayName": "Jonathyn Tellez",
      "photoUrl": "https://lh3.googleusercontent.com/a-/AOh14GjBhMFlrWTeC8b-KFbXUAuQaqPvaW9MzOTcBNLhOA=s64",
      "userId": "07224116715141009983"
     },
     "user_tz": 420
    },
    "id": "_c1YgvjZ_cUx",
    "outputId": "4361cc32-d5bb-4180-8a51-02a226787e04"
   },
   "outputs": [
    {
     "data": {
      "text/plain": [
       "array([1, 2, 3, 4])"
      ]
     },
     "execution_count": 77,
     "metadata": {},
     "output_type": "execute_result"
    }
   ],
   "source": [
    "new_arr"
   ]
  },
  {
   "cell_type": "code",
   "execution_count": 78,
   "metadata": {
    "colab": {},
    "colab_type": "code",
    "id": "BHLfP062_eJQ"
   },
   "outputs": [],
   "source": [
    "newer = new_arr.copy()"
   ]
  },
  {
   "cell_type": "code",
   "execution_count": 79,
   "metadata": {
    "colab": {
     "base_uri": "https://localhost:8080/",
     "height": 34
    },
    "colab_type": "code",
    "executionInfo": {
     "elapsed": 361,
     "status": "ok",
     "timestamp": 1584205292362,
     "user": {
      "displayName": "Jonathyn Tellez",
      "photoUrl": "https://lh3.googleusercontent.com/a-/AOh14GjBhMFlrWTeC8b-KFbXUAuQaqPvaW9MzOTcBNLhOA=s64",
      "userId": "07224116715141009983"
     },
     "user_tz": 420
    },
    "id": "UGUBsRWY_k8y",
    "outputId": "f418b8b9-1cc3-4541-ffe1-50c80f74d30a"
   },
   "outputs": [
    {
     "data": {
      "text/plain": [
       "array([1, 2, 3, 4])"
      ]
     },
     "execution_count": 79,
     "metadata": {},
     "output_type": "execute_result"
    }
   ],
   "source": [
    "newer"
   ]
  },
  {
   "cell_type": "code",
   "execution_count": 80,
   "metadata": {
    "colab": {
     "base_uri": "https://localhost:8080/",
     "height": 34
    },
    "colab_type": "code",
    "executionInfo": {
     "elapsed": 285,
     "status": "ok",
     "timestamp": 1584205306303,
     "user": {
      "displayName": "Jonathyn Tellez",
      "photoUrl": "https://lh3.googleusercontent.com/a-/AOh14GjBhMFlrWTeC8b-KFbXUAuQaqPvaW9MzOTcBNLhOA=s64",
      "userId": "07224116715141009983"
     },
     "user_tz": 420
    },
    "id": "1YU-rJWI_mGn",
    "outputId": "df4b3080-907a-4656-af71-17840178f727"
   },
   "outputs": [],
   "source": [
    "equal = newer == new_arr"
   ]
  },
  {
   "cell_type": "code",
   "execution_count": 81,
   "metadata": {},
   "outputs": [
    {
     "data": {
      "text/plain": [
       "array([ True,  True,  True,  True])"
      ]
     },
     "execution_count": 81,
     "metadata": {},
     "output_type": "execute_result"
    }
   ],
   "source": [
    "equal"
   ]
  },
  {
   "cell_type": "code",
   "execution_count": 82,
   "metadata": {},
   "outputs": [
    {
     "data": {
      "text/plain": [
       "numpy.ndarray"
      ]
     },
     "execution_count": 82,
     "metadata": {},
     "output_type": "execute_result"
    }
   ],
   "source": [
    "type(equal)"
   ]
  },
  {
   "cell_type": "code",
   "execution_count": 83,
   "metadata": {
    "colab": {
     "base_uri": "https://localhost:8080/",
     "height": 34
    },
    "colab_type": "code",
    "executionInfo": {
     "elapsed": 393,
     "status": "ok",
     "timestamp": 1584205319005,
     "user": {
      "displayName": "Jonathyn Tellez",
      "photoUrl": "https://lh3.googleusercontent.com/a-/AOh14GjBhMFlrWTeC8b-KFbXUAuQaqPvaW9MzOTcBNLhOA=s64",
      "userId": "07224116715141009983"
     },
     "user_tz": 420
    },
    "id": "3keIJTTq_phg",
    "outputId": "4083e98d-c6b9-4a29-d8fd-a7c37f857ed0"
   },
   "outputs": [
    {
     "data": {
      "text/plain": [
       "False"
      ]
     },
     "execution_count": 83,
     "metadata": {},
     "output_type": "execute_result"
    }
   ],
   "source": [
    "newer is new_arr"
   ]
  },
  {
   "cell_type": "code",
   "execution_count": 84,
   "metadata": {
    "colab": {},
    "colab_type": "code",
    "id": "iw8A5cUt_smZ"
   },
   "outputs": [],
   "source": [
    "newer[0] = 99"
   ]
  },
  {
   "cell_type": "code",
   "execution_count": 85,
   "metadata": {
    "colab": {
     "base_uri": "https://localhost:8080/",
     "height": 34
    },
    "colab_type": "code",
    "executionInfo": {
     "elapsed": 255,
     "status": "ok",
     "timestamp": 1584205344456,
     "user": {
      "displayName": "Jonathyn Tellez",
      "photoUrl": "https://lh3.googleusercontent.com/a-/AOh14GjBhMFlrWTeC8b-KFbXUAuQaqPvaW9MzOTcBNLhOA=s64",
      "userId": "07224116715141009983"
     },
     "user_tz": 420
    },
    "id": "M5HZyWwe_x0_",
    "outputId": "8366eee5-6970-49eb-d3d4-a8769c6c6715"
   },
   "outputs": [
    {
     "data": {
      "text/plain": [
       "array([99,  2,  3,  4])"
      ]
     },
     "execution_count": 85,
     "metadata": {},
     "output_type": "execute_result"
    }
   ],
   "source": [
    "newer"
   ]
  },
  {
   "cell_type": "code",
   "execution_count": 86,
   "metadata": {
    "colab": {
     "base_uri": "https://localhost:8080/",
     "height": 34
    },
    "colab_type": "code",
    "executionInfo": {
     "elapsed": 294,
     "status": "ok",
     "timestamp": 1584205356495,
     "user": {
      "displayName": "Jonathyn Tellez",
      "photoUrl": "https://lh3.googleusercontent.com/a-/AOh14GjBhMFlrWTeC8b-KFbXUAuQaqPvaW9MzOTcBNLhOA=s64",
      "userId": "07224116715141009983"
     },
     "user_tz": 420
    },
    "id": "T2560U-0_y2S",
    "outputId": "4d0765eb-38c3-4dd6-95a7-8c202580cb32"
   },
   "outputs": [
    {
     "data": {
      "text/plain": [
       "array([1, 2, 3, 4])"
      ]
     },
     "execution_count": 86,
     "metadata": {},
     "output_type": "execute_result"
    }
   ],
   "source": [
    "new_arr"
   ]
  },
  {
   "cell_type": "code",
   "execution_count": 91,
   "metadata": {
    "colab": {},
    "colab_type": "code",
    "id": "JULY7MJA_z_Z"
   },
   "outputs": [],
   "source": [
    "def run_tests():\n",
    "\n",
    "  # test 1\n",
    "  some_arr = np.array([1,2,3,4])\n",
    "  new_arr = some_arr[:]\n",
    "  assert some_arr is not new_arr\n",
    "  some_arr[0] = 999\n",
    "  assert new_arr[0] != 1\n",
    "\n",
    "\n",
    "  # test 2\n",
    "  some = np.array([1,2,3,4])\n",
    "  other = some.view()\n",
    "  some[0] = 999\n",
    "  assert other[0] == 999\n",
    "\n",
    "\n",
    "  # test 3\n",
    "  some = np.array([1,2,3,4])\n",
    "  other = some.copy()\n",
    "  some[0] = 999\n",
    "  assert other[0] == 1\n",
    "  \n",
    "  print('........ SUCCESS .........')"
   ]
  },
  {
   "cell_type": "code",
   "execution_count": 92,
   "metadata": {
    "colab": {
     "base_uri": "https://localhost:8080/",
     "height": 34
    },
    "colab_type": "code",
    "executionInfo": {
     "elapsed": 335,
     "status": "ok",
     "timestamp": 1584206668158,
     "user": {
      "displayName": "Jonathyn Tellez",
      "photoUrl": "https://lh3.googleusercontent.com/a-/AOh14GjBhMFlrWTeC8b-KFbXUAuQaqPvaW9MzOTcBNLhOA=s64",
      "userId": "07224116715141009983"
     },
     "user_tz": 420
    },
    "id": "367YjV-7A8Gx",
    "outputId": "8455387d-f195-4160-d9ac-e246cb6bb082"
   },
   "outputs": [
    {
     "name": "stdout",
     "output_type": "stream",
     "text": [
      "........ SUCCESS .........\n"
     ]
    }
   ],
   "source": [
    "run_tests()"
   ]
  },
  {
   "cell_type": "code",
   "execution_count": 108,
   "metadata": {
    "colab": {
     "base_uri": "https://localhost:8080/",
     "height": 34
    },
    "colab_type": "code",
    "executionInfo": {
     "elapsed": 303,
     "status": "ok",
     "timestamp": 1584205949507,
     "user": {
      "displayName": "Jonathyn Tellez",
      "photoUrl": "https://lh3.googleusercontent.com/a-/AOh14GjBhMFlrWTeC8b-KFbXUAuQaqPvaW9MzOTcBNLhOA=s64",
      "userId": "07224116715141009983"
     },
     "user_tz": 420
    },
    "id": "yExd02MLA_uv",
    "outputId": "6083e15f-e668-4027-fec8-d53a5ac4dc83"
   },
   "outputs": [
    {
     "data": {
      "text/plain": [
       "array([5, 6, 7, 8])"
      ]
     },
     "execution_count": 108,
     "metadata": {},
     "output_type": "execute_result"
    }
   ],
   "source": [
    "some = np.array([5,6,7,8])\n",
    "other = np.array(some)\n",
    "some[0] = 55\n",
    "other"
   ]
  },
  {
   "cell_type": "markdown",
   "metadata": {
    "colab_type": "text",
    "id": "Wo33y_cRFNU6"
   },
   "source": [
    "# Buy Low Sell High"
   ]
  },
  {
   "cell_type": "code",
   "execution_count": 112,
   "metadata": {
    "colab": {},
    "colab_type": "code",
    "id": "BtbO_r0vCGjL"
   },
   "outputs": [],
   "source": [
    "prices = np.full(100, fill_value=9)"
   ]
  },
  {
   "cell_type": "code",
   "execution_count": 113,
   "metadata": {
    "colab": {
     "base_uri": "https://localhost:8080/",
     "height": 151
    },
    "colab_type": "code",
    "executionInfo": {
     "elapsed": 295,
     "status": "ok",
     "timestamp": 1584206840061,
     "user": {
      "displayName": "Jonathyn Tellez",
      "photoUrl": "https://lh3.googleusercontent.com/a-/AOh14GjBhMFlrWTeC8b-KFbXUAuQaqPvaW9MzOTcBNLhOA=s64",
      "userId": "07224116715141009983"
     },
     "user_tz": 420
    },
    "id": "yBk9Bq68Fe94",
    "outputId": "39e8e039-d4d0-42f0-9232-89b82b8d2d4c"
   },
   "outputs": [
    {
     "data": {
      "text/plain": [
       "array([9, 9, 9, 9, 9, 9, 9, 9, 9, 9, 9, 9, 9, 9, 9, 9, 9, 9, 9, 9, 9, 9,\n",
       "       9, 9, 9, 9, 9, 9, 9, 9, 9, 9, 9, 9, 9, 9, 9, 9, 9, 9, 9, 9, 9, 9,\n",
       "       9, 9, 9, 9, 9, 9, 9, 9, 9, 9, 9, 9, 9, 9, 9, 9, 9, 9, 9, 9, 9, 9,\n",
       "       9, 9, 9, 9, 9, 9, 9, 9, 9, 9, 9, 9, 9, 9, 9, 9, 9, 9, 9, 9, 9, 9,\n",
       "       9, 9, 9, 9, 9, 9, 9, 9, 9, 9, 9, 9])"
      ]
     },
     "execution_count": 113,
     "metadata": {},
     "output_type": "execute_result"
    }
   ],
   "source": [
    "prices"
   ]
  },
  {
   "cell_type": "code",
   "execution_count": 114,
   "metadata": {
    "colab": {},
    "colab_type": "code",
    "id": "6y314LJoFf-U"
   },
   "outputs": [
    {
     "data": {
      "text/plain": [
       "array([0., 0., 0., 0., 0., 0., 0., 0., 0., 0., 0., 0., 0., 0., 0., 0., 0.,\n",
       "       0., 0., 0., 0., 0., 0., 0., 0., 0., 0., 0., 0., 0., 0., 0., 0., 0.,\n",
       "       0., 0., 0., 0., 0., 0., 0., 0., 0., 0., 0., 0., 0., 0., 0., 0.])"
      ]
     },
     "execution_count": 114,
     "metadata": {},
     "output_type": "execute_result"
    }
   ],
   "source": [
    "np.zeros(50)"
   ]
  },
  {
   "cell_type": "code",
   "execution_count": 115,
   "metadata": {},
   "outputs": [
    {
     "data": {
      "text/plain": [
       "array([1., 1., 1., 1., 1., 1., 1., 1., 1., 1., 1., 1., 1., 1., 1., 1., 1.,\n",
       "       1., 1., 1.])"
      ]
     },
     "execution_count": 115,
     "metadata": {},
     "output_type": "execute_result"
    }
   ],
   "source": [
    "np.ones(20)"
   ]
  },
  {
   "cell_type": "code",
   "execution_count": 116,
   "metadata": {},
   "outputs": [
    {
     "data": {
      "text/plain": [
       "array([3, 3, 3, 3, 3, 3, 3, 3, 3, 3, 3, 3, 3, 3, 3, 3, 3, 3, 3, 3])"
      ]
     },
     "execution_count": 116,
     "metadata": {},
     "output_type": "execute_result"
    }
   ],
   "source": [
    "np.full(20, 3)"
   ]
  },
  {
   "cell_type": "markdown",
   "metadata": {},
   "source": [
    "# Memory allocation in Python"
   ]
  },
  {
   "cell_type": "code",
   "execution_count": 94,
   "metadata": {},
   "outputs": [],
   "source": [
    "arr1 = [1,2,3,4,5]"
   ]
  },
  {
   "cell_type": "code",
   "execution_count": 95,
   "metadata": {},
   "outputs": [],
   "source": [
    "arr2 = arr1"
   ]
  },
  {
   "cell_type": "code",
   "execution_count": 96,
   "metadata": {},
   "outputs": [
    {
     "data": {
      "text/plain": [
       "[1, 2, 3, 4, 5]"
      ]
     },
     "execution_count": 96,
     "metadata": {},
     "output_type": "execute_result"
    }
   ],
   "source": [
    "arr2"
   ]
  },
  {
   "cell_type": "code",
   "execution_count": 97,
   "metadata": {},
   "outputs": [
    {
     "data": {
      "text/plain": [
       "True"
      ]
     },
     "execution_count": 97,
     "metadata": {},
     "output_type": "execute_result"
    }
   ],
   "source": [
    "arr1 == arr2"
   ]
  },
  {
   "cell_type": "code",
   "execution_count": 98,
   "metadata": {},
   "outputs": [
    {
     "data": {
      "text/plain": [
       "True"
      ]
     },
     "execution_count": 98,
     "metadata": {},
     "output_type": "execute_result"
    }
   ],
   "source": [
    "arr1 is arr2"
   ]
  },
  {
   "cell_type": "code",
   "execution_count": 99,
   "metadata": {},
   "outputs": [],
   "source": [
    "var1 = 8"
   ]
  },
  {
   "cell_type": "code",
   "execution_count": 100,
   "metadata": {},
   "outputs": [],
   "source": [
    "var2 = var1"
   ]
  },
  {
   "cell_type": "code",
   "execution_count": 101,
   "metadata": {},
   "outputs": [
    {
     "data": {
      "text/plain": [
       "True"
      ]
     },
     "execution_count": 101,
     "metadata": {},
     "output_type": "execute_result"
    }
   ],
   "source": [
    "var1 == var2"
   ]
  },
  {
   "cell_type": "code",
   "execution_count": 102,
   "metadata": {},
   "outputs": [
    {
     "data": {
      "text/plain": [
       "True"
      ]
     },
     "execution_count": 102,
     "metadata": {},
     "output_type": "execute_result"
    }
   ],
   "source": [
    "var1 is var2"
   ]
  },
  {
   "cell_type": "code",
   "execution_count": 103,
   "metadata": {},
   "outputs": [
    {
     "data": {
      "text/plain": [
       "8"
      ]
     },
     "execution_count": 103,
     "metadata": {},
     "output_type": "execute_result"
    }
   ],
   "source": [
    "var1"
   ]
  },
  {
   "cell_type": "code",
   "execution_count": 104,
   "metadata": {},
   "outputs": [
    {
     "data": {
      "text/plain": [
       "8"
      ]
     },
     "execution_count": 104,
     "metadata": {},
     "output_type": "execute_result"
    }
   ],
   "source": [
    "var2"
   ]
  },
  {
   "cell_type": "code",
   "execution_count": 105,
   "metadata": {},
   "outputs": [],
   "source": [
    "var1 = 9"
   ]
  },
  {
   "cell_type": "code",
   "execution_count": 106,
   "metadata": {},
   "outputs": [
    {
     "data": {
      "text/plain": [
       "9"
      ]
     },
     "execution_count": 106,
     "metadata": {},
     "output_type": "execute_result"
    }
   ],
   "source": [
    "var1"
   ]
  },
  {
   "cell_type": "code",
   "execution_count": 107,
   "metadata": {},
   "outputs": [
    {
     "data": {
      "text/plain": [
       "8"
      ]
     },
     "execution_count": 107,
     "metadata": {},
     "output_type": "execute_result"
    }
   ],
   "source": [
    "var2"
   ]
  },
  {
   "cell_type": "code",
   "execution_count": null,
   "metadata": {},
   "outputs": [],
   "source": []
  }
 ],
 "metadata": {
  "colab": {
   "authorship_tag": "ABX9TyMap5I4qbQJGT8yON0dq8E5",
   "name": "Hola.ipynb",
   "provenance": [],
   "toc_visible": true
  },
  "kernelspec": {
   "display_name": "Python 3",
   "language": "python",
   "name": "python3"
  },
  "language_info": {
   "codemirror_mode": {
    "name": "ipython",
    "version": 3
   },
   "file_extension": ".py",
   "mimetype": "text/x-python",
   "name": "python",
   "nbconvert_exporter": "python",
   "pygments_lexer": "ipython3",
   "version": "3.8.5"
  }
 },
 "nbformat": 4,
 "nbformat_minor": 4
}
