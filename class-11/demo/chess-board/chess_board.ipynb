{
 "cells": [
  {
   "cell_type": "code",
   "execution_count": 10,
   "metadata": {},
   "outputs": [
    {
     "data": {
      "image/png": "[encoded data removed]",
      "text/plain": [
       "<Figure size 432x288 with 1 Axes>"
      ]
     },
     "metadata": {
      "needs_background": "light"
     },
     "output_type": "display_data"
    }
   ],
   "source": [
    "import numpy as np\n",
    "import matplotlib.pyplot as plt\n",
    "\n",
    "class ChessBoard:\n",
    "    white = [1,1,1]\n",
    "    blue = [0,0,1]\n",
    "    red = [1,0,0]\n",
    "    def __init__(self):\n",
    "        self.grid = np.zeros([8,8,3])\n",
    "        for coord in np.ndindex(8,8):\n",
    "            if coord[0]%2 != coord[1]%2:\n",
    "                self.grid[coord[0],coord[1]] = ChessBoard.white\n",
    "    \n",
    "    def add_blue(self, row, col):\n",
    "        self.grid[row,col] = ChessBoard.blue\n",
    "    \n",
    "    def add_red(self, row, col):\n",
    "        self.grid[row,col] = ChessBoard.red\n",
    "          \n",
    "    def render(self):\n",
    "        plt.imshow(self.grid)\n",
    "        \n",
    "    def check_if_diagonal(self, x1, y1, x2, y2):\n",
    "        if abs(x1-x2) == abs(y1-y2):\n",
    "            return True\n",
    "        return False\n",
    "    \n",
    "    def check_if_under_attack(self,red_x,red_y,blue_x,blue_y):\n",
    "        # if horizontal x's\n",
    "        # if vertical y's\n",
    "        # if diagonal\n",
    "    \n",
    "    def is_under_attack(self):\n",
    "        # loop to run check_if_under_attack for each cell compared to other cells\n",
    "        # OR Detect all blues and reds then check\n",
    "        # OR your approach\n",
    "        \n",
    "#     (3,1) is diagonal to (6,4)\n",
    "#     abs(3-6) == abs(1-4)\n",
    "#     abs(-3) == abs(-3)\n",
    "#     3  == 3\n",
    "\n",
    "\n",
    "board = ChessBoard()\n",
    "board.add_red(1,2)\n",
    "board.add_blue(3,3)\n",
    "board.add_red(2,5)\n",
    "board.add_blue(7,2)\n",
    "board.render()"
   ]
  }
 ],
 "metadata": {
  "kernelspec": {
   "display_name": "Python 3",
   "language": "python",
   "name": "python3"
  },
  "language_info": {
   "codemirror_mode": {
    "name": "ipython",
    "version": 3
   },
   "file_extension": ".py",
   "mimetype": "text/x-python",
   "name": "python",
   "nbconvert_exporter": "python",
   "pygments_lexer": "ipython3",
   "version": "3.8.5"
  }
 },
 "nbformat": 4,
 "nbformat_minor": 4
}